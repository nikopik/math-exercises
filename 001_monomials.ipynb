{
  "nbformat": 4,
  "nbformat_minor": 0,
  "metadata": {
    "colab": {
      "provenance": [],
      "authorship_tag": "ABX9TyPQuxknYmSDclrU+7Q1zA2n",
      "include_colab_link": true
    },
    "kernelspec": {
      "name": "python3",
      "display_name": "Python 3"
    },
    "language_info": {
      "name": "python"
    }
  },
  "cells": [
    {
      "cell_type": "markdown",
      "metadata": {
        "id": "view-in-github",
        "colab_type": "text"
      },
      "source": [
        "<a href=\"https://colab.research.google.com/github/nikopik/math-exercises/blob/main/001_monomials.ipynb\" target=\"_parent\"><img src=\"https://colab.research.google.com/assets/colab-badge.svg\" alt=\"Open In Colab\"/></a>"
      ]
    },
    {
      "cell_type": "code",
      "execution_count": 1,
      "metadata": {
        "id": "L59HVBlYr5GO"
      },
      "outputs": [],
      "source": [
        "from fractions import Fraction"
      ]
    },
    {
      "cell_type": "code",
      "source": [
        "# a furniture salesman buys a table for X\n",
        "# he wants to to sell it for a 40% increase\n",
        "# the table do not sell so he applies a 20% discount on the final price\n",
        "# what's the price now? 112%*X"
      ],
      "metadata": {
        "id": "fgoIcmZVsrng"
      },
      "execution_count": 7,
      "outputs": []
    },
    {
      "cell_type": "code",
      "source": [
        "Fraction( str(112/100))"
      ],
      "metadata": {
        "colab": {
          "base_uri": "https://localhost:8080/"
        },
        "id": "p0wFIrdqxPK5",
        "outputId": "912542f8-8e14-418c-c963-777f0f5baf85"
      },
      "execution_count": 13,
      "outputs": [
        {
          "output_type": "execute_result",
          "data": {
            "text/plain": [
              "Fraction(28, 25)"
            ]
          },
          "metadata": {},
          "execution_count": 13
        }
      ]
    },
    {
      "cell_type": "code",
      "source": [
        "#112/100\n",
        "print(112/2)\n",
        "print(100/2)\n",
        "#56/50\n",
        "print(56/2)\n",
        "print(50/2)\n",
        "#=28/25*X"
      ],
      "metadata": {
        "colab": {
          "base_uri": "https://localhost:8080/"
        },
        "id": "xErYg2jsyhVC",
        "outputId": "888c93f4-c622-4511-caa3-b2e3c0a1cd29"
      },
      "execution_count": 16,
      "outputs": [
        {
          "output_type": "stream",
          "name": "stdout",
          "text": [
            "56.0\n",
            "50.0\n",
            "28.0\n",
            "25.0\n"
          ]
        }
      ]
    },
    {
      "cell_type": "code",
      "source": [
        "dis=112*0.2\n",
        "112-dis\n",
        "print(89.6*10/2)\n",
        "print(100*10/2)\n",
        "#448/500\n",
        "print(448/2)\n",
        "print(500/2)\n",
        "#224/250\n",
        "print(224/2)\n",
        "print(250/2)\n",
        "#112/125\n"
      ],
      "metadata": {
        "colab": {
          "base_uri": "https://localhost:8080/"
        },
        "id": "5SdfSrFhzSqG",
        "outputId": "21bcdbd0-6fb7-430e-b926-949b7539e0dd"
      },
      "execution_count": 25,
      "outputs": [
        {
          "output_type": "stream",
          "name": "stdout",
          "text": [
            "448.0\n",
            "500.0\n",
            "224.0\n",
            "250.0\n",
            "112.0\n",
            "125.0\n"
          ]
        }
      ]
    },
    {
      "cell_type": "code",
      "source": [
        "# price=(112/125)*X"
      ],
      "metadata": {
        "id": "jD9H6pNb2FG_"
      },
      "execution_count": 27,
      "outputs": []
    },
    {
      "cell_type": "code",
      "source": [
        "buy_price=2250\n",
        "sell_price= (112/125)*buy_price\n",
        "gain=sell_price-buy_price\n",
        "print(gain)"
      ],
      "metadata": {
        "colab": {
          "base_uri": "https://localhost:8080/"
        },
        "id": "Pvmd4iFs2bu6",
        "outputId": "d1aac596-522e-4272-97ec-fe27666e2176"
      },
      "execution_count": 30,
      "outputs": [
        {
          "output_type": "stream",
          "name": "stdout",
          "text": [
            "-234.0\n"
          ]
        }
      ]
    }
  ]
}