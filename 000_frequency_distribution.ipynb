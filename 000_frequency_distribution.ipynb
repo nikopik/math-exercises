{
  "nbformat": 4,
  "nbformat_minor": 0,
  "metadata": {
    "colab": {
      "provenance": [],
      "authorship_tag": "ABX9TyO/tHtxLgDb+kX5ogV2adaQ",
      "include_colab_link": true
    },
    "kernelspec": {
      "name": "python3",
      "display_name": "Python 3"
    },
    "language_info": {
      "name": "python"
    }
  },
  "cells": [
    {
      "cell_type": "markdown",
      "metadata": {
        "id": "view-in-github",
        "colab_type": "text"
      },
      "source": [
        "<a href=\"https://colab.research.google.com/github/nikopik/math-exercises/blob/main/000_frequency_distribution.ipynb\" target=\"_parent\"><img src=\"https://colab.research.google.com/assets/colab-badge.svg\" alt=\"Open In Colab\"/></a>"
      ]
    },
    {
      "cell_type": "markdown",
      "source": [
        "# problem 2 pag 92\n",
        "compute the frequency of temperature for the given ranges"
      ],
      "metadata": {
        "id": "yDGBGWWigXwd"
      }
    },
    {
      "cell_type": "code",
      "execution_count": 5,
      "metadata": {
        "id": "XSzPUDdqewi-",
        "colab": {
          "base_uri": "https://localhost:8080/"
        },
        "outputId": "904eeaa2-0c3a-48dc-f16a-23e4545fe373"
      },
      "outputs": [
        {
          "output_type": "stream",
          "name": "stdout",
          "text": [
            "[32, 42, 36, 40, 35, 36, 33, 32, 38, 37, 34, 40, 41, 39, 42, 38, 37, 42, 40, 41]\n"
          ]
        }
      ],
      "source": [
        "raw_data = [32, 42, 36, 40, 35, 36, 33, 32, 38, 37, 34, 40, 41, 39, 42, 38, 37, 42, 40, 41]\n",
        "\n",
        "print(raw_data)"
      ]
    },
    {
      "cell_type": "code",
      "source": [
        "len(raw_data)"
      ],
      "metadata": {
        "colab": {
          "base_uri": "https://localhost:8080/"
        },
        "id": "mRPUIqG6jpKk",
        "outputId": "921edcd6-bcfa-42a5-bee3-67a636d079c9"
      },
      "execution_count": 6,
      "outputs": [
        {
          "output_type": "execute_result",
          "data": {
            "text/plain": [
              "20"
            ]
          },
          "metadata": {},
          "execution_count": 6
        }
      ]
    },
    {
      "cell_type": "code",
      "source": [
        "# ranges 32-34 35-37 38-40 41-43\n",
        "frequencies = {\"32-34\": 0, \"35-37\": 0, \"38-40\": 0, \"41-43\": 0}\n",
        "\n",
        "print(frequencies)\n",
        "\n",
        "for temp in raw_data:\n",
        "  if temp >= 32 and temp <= 34:\n",
        "    frequencies['32-34'] += 1\n",
        "  if temp >= 35 and temp <= 37:\n",
        "    frequencies['35-37'] += 1\n",
        "  if temp >= 38 and temp <= 40:\n",
        "    frequencies['38-40'] += 1\n",
        "  if temp >= 41 and temp <= 43:\n",
        "    frequencies['41-43'] += 1\n",
        "\n",
        "print(\"solution\\n\")\n",
        "print(frequencies)"
      ],
      "metadata": {
        "colab": {
          "base_uri": "https://localhost:8080/"
        },
        "id": "I2Y7EAp1kFOK",
        "outputId": "007f3e46-dfe3-4d7c-8da9-4f9e5d834b66"
      },
      "execution_count": 8,
      "outputs": [
        {
          "output_type": "stream",
          "name": "stdout",
          "text": [
            "{'32-34': 0, '35-37': 0, '38-40': 0, '41-43': 0}\n",
            "solution\n",
            "\n",
            "{'32-34': 4, '35-37': 5, '38-40': 6, '41-43': 5}\n"
          ]
        }
      ]
    }
  ]
}