{
  "nbformat": 4,
  "nbformat_minor": 0,
  "metadata": {
    "colab": {
      "provenance": [],
      "authorship_tag": "ABX9TyMcm3XhSB04O6JLTC3qN7cy",
      "include_colab_link": true
    },
    "kernelspec": {
      "name": "python3",
      "display_name": "Python 3"
    },
    "language_info": {
      "name": "python"
    }
  },
  "cells": [
    {
      "cell_type": "markdown",
      "metadata": {
        "id": "view-in-github",
        "colab_type": "text"
      },
      "source": [
        "<a href=\"https://colab.research.google.com/github/nikopik/math-exercises/blob/main/000_frequency_distribution.ipynb\" target=\"_parent\"><img src=\"https://colab.research.google.com/assets/colab-badge.svg\" alt=\"Open In Colab\"/></a>"
      ]
    },
    {
      "cell_type": "markdown",
      "source": [
        "# problem 2 pag 92\n",
        "compute the frequency of temperature for the given ranges"
      ],
      "metadata": {
        "id": "yDGBGWWigXwd"
      }
    },
    {
      "cell_type": "code",
      "execution_count": 5,
      "metadata": {
        "id": "XSzPUDdqewi-",
        "colab": {
          "base_uri": "https://localhost:8080/"
        },
        "outputId": "904eeaa2-0c3a-48dc-f16a-23e4545fe373"
      },
      "outputs": [
        {
          "output_type": "stream",
          "name": "stdout",
          "text": [
            "[32, 42, 36, 40, 35, 36, 33, 32, 38, 37, 34, 40, 41, 39, 42, 38, 37, 42, 40, 41]\n"
          ]
        }
      ],
      "source": [
        "raw_data = [32, 42, 36, 40, 35, 36, 33, 32, 38, 37, 34, 40, 41, 39, 42, 38, 37, 42, 40, 41]\n",
        "\n",
        "print(raw_data)"
      ]
    },
    {
      "cell_type": "code",
      "source": [
        "len(raw_data)"
      ],
      "metadata": {
        "colab": {
          "base_uri": "https://localhost:8080/"
        },
        "id": "mRPUIqG6jpKk",
        "outputId": "921edcd6-bcfa-42a5-bee3-67a636d079c9"
      },
      "execution_count": 6,
      "outputs": [
        {
          "output_type": "execute_result",
          "data": {
            "text/plain": [
              "20"
            ]
          },
          "metadata": {},
          "execution_count": 6
        }
      ]
    },
    {
      "cell_type": "code",
      "source": [
        "# ranges 32-34 35-37 38-40 41-43\n",
        "frequencies = {\"32-34\": 0, \"35-37\": 0, \"38-40\": 0, \"41-43\": 0}\n",
        "\n",
        "print(frequencies)\n",
        "\n",
        "for temp in raw_data:\n",
        "  if temp >= 32 and temp <= 34:\n",
        "    frequencies['32-34'] += 1\n",
        "  if temp >= 35 and temp <= 37:\n",
        "    frequencies['35-37'] += 1\n",
        "  if temp >= 38 and temp <= 40:\n",
        "    frequencies['38-40'] += 1\n",
        "  if temp >= 41 and temp <= 43:\n",
        "    frequencies['41-43'] += 1\n",
        "\n",
        "print(\"solution\\n\")\n",
        "print(frequencies)"
      ],
      "metadata": {
        "colab": {
          "base_uri": "https://localhost:8080/"
        },
        "id": "I2Y7EAp1kFOK",
        "outputId": "e375058a-f8f7-4952-d99d-dce8cb2c450c"
      },
      "execution_count": 9,
      "outputs": [
        {
          "output_type": "stream",
          "name": "stdout",
          "text": [
            "{'32-34': 0, '35-37': 0, '38-40': 0, '41-43': 0}\n",
            "solution\n",
            "\n",
            "{'32-34': 4, '35-37': 5, '38-40': 6, '41-43': 5}\n"
          ]
        }
      ]
    },
    {
      "cell_type": "code",
      "source": [
        "import matplotlib.pyplot as plt\n",
        "\n",
        "categories = list(frequencies.keys())\n",
        "\n",
        "temperatures= list(frequencies.values())\n",
        "\n",
        "plt.barh(categories, temperatures)"
      ],
      "metadata": {
        "colab": {
          "base_uri": "https://localhost:8080/",
          "height": 447
        },
        "id": "pbhEDw5cs8jL",
        "outputId": "e076cb80-4907-48a9-e274-4f7f375f4f53"
      },
      "execution_count": 11,
      "outputs": [
        {
          "output_type": "execute_result",
          "data": {
            "text/plain": [
              "<BarContainer object of 4 artists>"
            ]
          },
          "metadata": {},
          "execution_count": 11
        },
        {
          "output_type": "display_data",
          "data": {
            "text/plain": [
              "<Figure size 640x480 with 1 Axes>"
            ],
            "image/png": "[encoded data removed]"
          },
          "metadata": {}
        }
      ]
    },
    {
      "cell_type": "markdown",
      "source": [
        "# problem 3 pag 92"
      ],
      "metadata": {
        "id": "so6eZlmlskVl"
      }
    },
    {
      "cell_type": "code",
      "source": [],
      "metadata": {
        "id": "jJtYf33Estaw"
      },
      "execution_count": null,
      "outputs": []
    }
  ]
}